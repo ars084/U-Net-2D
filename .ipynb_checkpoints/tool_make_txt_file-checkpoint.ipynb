{
 "cells": [
  {
   "cell_type": "markdown",
   "metadata": {},
   "source": [
    "this script can creat and save txt files"
   ]
  },
  {
   "cell_type": "markdown",
   "metadata": {},
   "source": [
    "## create txt file for time frame picked for pretrained AI:"
   ]
  },
  {
   "cell_type": "code",
   "execution_count": 2,
   "metadata": {},
   "outputs": [],
   "source": [
    "import numpy as np\n",
    "import U_Net_function_list as ff\n",
    "import pandas as pd\n",
    "import os"
   ]
  },
  {
   "cell_type": "code",
   "execution_count": 8,
   "metadata": {},
   "outputs": [],
   "source": [
    "file = '/Users/zhennongchen/Documents/Zhennong_CT_Data/Patient_Overview/Case_search_list/time_frame_assignment_for_pretrained_AI_prediction.csv'\n",
    "data = pd.read_csv(file)\n",
    "save_dir = '/Volumes/McVeighLab/wip/zhennong/predicted_seg/'"
   ]
  },
  {
   "cell_type": "code",
   "execution_count": 7,
   "metadata": {},
   "outputs": [
    {
     "name": "stdout",
     "output_type": "stream",
     "text": [
      "Unnamed: 0                      0\n",
      "Patient_Class            Abnormal\n",
      "Patient_ID          CVC1801161735\n",
      "ED/ES                          ED\n",
      "Timeframe_picked                0\n",
      "Total_timeframes               10\n",
      "Name: 0, dtype: object\n"
     ]
    }
   ],
   "source": [
    "for i in range(0,data.shape[0]):\n",
    "    case = data.iloc[i]\n",
    "    print(case)\n",
    "    patient_class = case['Patient_Class']\n",
    "    patient_id = case['Patient_ID']\n",
    "    time = case['Timeframe_picked']\n",
    "    print(patient_class,patient_id)\n",
    "    if os.isdir(os.path.join(save_dir,patient_class,patient_id)) == 0:\n",
    "        print('wrong! there is not this patient')\n",
    "    else:\n",
    "        file_name = os.path.join(save_dir,patient_class,patient_id,'time_frame_picked_for_pretrained_AI.txt')\n",
    "        file1 = open(file_name,\"w\")\n",
    "        file1.write(str(time))\n",
    "        file1.close()\n",
    "    break\n",
    "        \n"
   ]
  },
  {
   "cell_type": "code",
   "execution_count": null,
   "metadata": {},
   "outputs": [],
   "source": []
  }
 ],
 "metadata": {
  "kernelspec": {
   "display_name": "Python 3",
   "language": "python",
   "name": "python3"
  },
  "language_info": {
   "codemirror_mode": {
    "name": "ipython",
    "version": 3
   },
   "file_extension": ".py",
   "mimetype": "text/x-python",
   "name": "python",
   "nbconvert_exporter": "python",
   "pygments_lexer": "ipython3",
   "version": "3.6.10"
  }
 },
 "nbformat": 4,
 "nbformat_minor": 4
}
