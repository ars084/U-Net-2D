{
 "cells": [
  {
   "cell_type": "code",
   "execution_count": 35,
   "metadata": {},
   "outputs": [],
   "source": [
    "import numpy as np\n",
    "import random"
   ]
  },
  {
   "cell_type": "markdown",
   "metadata": {},
   "source": [
    "permuate slices in each patient and the model reads patients one by one"
   ]
  },
  {
   "cell_type": "code",
   "execution_count": 57,
   "metadata": {},
   "outputs": [],
   "source": [
    "slice_num = 4\n",
    "patient_num = 12"
   ]
  },
  {
   "cell_type": "code",
   "execution_count": 58,
   "metadata": {},
   "outputs": [
    {
     "name": "stdout",
     "output_type": "stream",
     "text": [
      "[[1, 1], [1, 0], [1, 2], [1, 3], [3, 0], [3, 1], [3, 2], [3, 3], [6, 0], [6, 2], [6, 3], [6, 1], [4, 3], [4, 0], [4, 2], [4, 1], [10, 1], [10, 0], [10, 3], [10, 2], [7, 1], [7, 2], [7, 0], [7, 3], [11, 0], [11, 2], [11, 3], [11, 1], [8, 3], [8, 2], [8, 0], [8, 1], [0, 0], [0, 2], [0, 1], [0, 3], [9, 0], [9, 2], [9, 3], [9, 1], [5, 1], [5, 0], [5, 3], [5, 2], [2, 0], [2, 2], [2, 1], [2, 3]]\n"
     ]
    }
   ],
   "source": [
    "index_array = []\n",
    "patient_list = np.random.permutation(patient_num)\n",
    "for p in patient_list:\n",
    "    slice_array = np.random.permutation(slice_num)\n",
    "    for s in slice_array:\n",
    "        index_array.append([p,s])\n",
    "print(index_array) "
   ]
  },
  {
   "cell_type": "markdown",
   "metadata": {},
   "source": [
    "permutate slices and patients so that model reads N patients in each batch"
   ]
  },
  {
   "cell_type": "code",
   "execution_count": 59,
   "metadata": {},
   "outputs": [
    {
     "name": "stdout",
     "output_type": "stream",
     "text": [
      "48\n"
     ]
    }
   ],
   "source": [
    "slice_num = 4\n",
    "patient_num = 12\n",
    "total_slice_num = slice_num * patient_num\n",
    "print(total_slice_num)"
   ]
  },
  {
   "cell_type": "code",
   "execution_count": 60,
   "metadata": {},
   "outputs": [],
   "source": [
    "patient_in_one_batch = 3"
   ]
  },
  {
   "cell_type": "code",
   "execution_count": 61,
   "metadata": {},
   "outputs": [
    {
     "name": "stdout",
     "output_type": "stream",
     "text": [
      "[[6, 2], [6, 0], [6, 1], [6, 3], [4, 0], [4, 2], [4, 3], [4, 1], [10, 0], [10, 2], [10, 1], [10, 3], [11, 3], [11, 0], [11, 2], [11, 1], [7, 3], [7, 1], [7, 2], [7, 0], [9, 3], [9, 2], [9, 0], [9, 1], [5, 3], [5, 0], [5, 2], [5, 1], [1, 0], [1, 2], [1, 1], [1, 3], [0, 2], [0, 0], [0, 1], [0, 3], [3, 2], [3, 3], [3, 0], [3, 1], [8, 1], [8, 0], [8, 3], [8, 2], [2, 0], [2, 2], [2, 3], [2, 1]]\n"
     ]
    }
   ],
   "source": [
    "index_array = []\n",
    "patient_list = np.random.permutation(patient_num)\n",
    "for p in patient_list:\n",
    "    slice_array = np.random.permutation(slice_num)\n",
    "    for s in slice_array:\n",
    "        index_array.append([p,s])\n",
    "print(index_array)"
   ]
  },
  {
   "cell_type": "code",
   "execution_count": 67,
   "metadata": {},
   "outputs": [
    {
     "name": "stdout",
     "output_type": "stream",
     "text": [
      "12\n"
     ]
    }
   ],
   "source": [
    "\n",
    "slices_in_one_group = patient_in_one_batch * slice_num\n",
    "print(slices_in_one_group)"
   ]
  },
  {
   "cell_type": "code",
   "execution_count": 66,
   "metadata": {},
   "outputs": [
    {
     "name": "stdout",
     "output_type": "stream",
     "text": [
      "[[6, 3], [6, 0], [10, 3], [10, 0], [6, 1], [4, 3], [4, 2], [4, 1], [10, 2], [10, 1], [6, 2], [4, 0], [7, 2], [9, 0], [7, 3], [7, 1], [11, 2], [9, 2], [7, 0], [11, 1], [9, 1], [11, 0], [9, 3], [11, 3], [5, 3], [5, 1], [1, 2], [1, 0], [1, 1], [5, 0], [0, 1], [1, 3], [0, 3], [0, 2], [5, 2], [0, 0], [8, 3], [3, 0], [3, 1], [2, 0], [3, 2], [2, 3], [3, 3], [8, 1], [8, 2], [8, 0], [2, 1], [2, 2]]\n"
     ]
    }
   ],
   "source": [
    "new_index_array = []\n",
    "for i in range(0,int(patient_num / patient_in_one_batch)):\n",
    "    g = index_array[slices_in_one_group * i:slices_in_one_group * (i+1)]\n",
    "    random.shuffle(g)\n",
    "    new_index_array.extend(g)\n",
    "print(new_index_array)\n",
    "    "
   ]
  },
  {
   "cell_type": "markdown",
   "metadata": {},
   "source": [
    "then in each batch we want to order the index by patients (so the slices from the same patient only need one volume loading)"
   ]
  },
  {
   "cell_type": "code",
   "execution_count": 64,
   "metadata": {},
   "outputs": [
    {
     "name": "stdout",
     "output_type": "stream",
     "text": [
      "8\n"
     ]
    }
   ],
   "source": [
    "batch_size = 6\n",
    "batch_num = int(total_slice_num / batch_size)\n",
    "print(batch_num)"
   ]
  },
  {
   "cell_type": "code",
   "execution_count": 65,
   "metadata": {},
   "outputs": [
    {
     "name": "stdout",
     "output_type": "stream",
     "text": [
      "[[10, 0], [4, 1], [6, 1], [10, 3], [4, 3], [6, 0]]\n",
      "[[4, 1], [4, 3], [6, 0], [6, 1], [10, 0], [10, 3]]\n"
     ]
    }
   ],
   "source": [
    "for i in range(0,batch_num):\n",
    "    array = new_index_array[batch_size * i : batch_size * (i+1)]\n",
    "    print(array)\n",
    "    array.sort()\n",
    "    print(array)\n",
    "    break"
   ]
  },
  {
   "cell_type": "code",
   "execution_count": null,
   "metadata": {},
   "outputs": [],
   "source": []
  }
 ],
 "metadata": {
  "kernelspec": {
   "display_name": "Python 3",
   "language": "python",
   "name": "python3"
  },
  "language_info": {
   "codemirror_mode": {
    "name": "ipython",
    "version": 3
   },
   "file_extension": ".py",
   "mimetype": "text/x-python",
   "name": "python",
   "nbconvert_exporter": "python",
   "pygments_lexer": "ipython3",
   "version": "3.6.10"
  }
 },
 "nbformat": 4,
 "nbformat_minor": 4
}
